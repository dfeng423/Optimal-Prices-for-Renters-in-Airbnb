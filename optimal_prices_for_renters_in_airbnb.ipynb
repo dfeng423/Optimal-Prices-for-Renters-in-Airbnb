{
  "nbformat": 4,
  "nbformat_minor": 0,
  "metadata": {
    "colab": {
      "name": "optimal prices for renters in airbnb.ipynb",
      "provenance": [],
      "toc_visible": true,
      "include_colab_link": true
    },
    "kernelspec": {
      "name": "python3",
      "display_name": "Python 3"
    }
  },
  "cells": [
    {
      "cell_type": "markdown",
      "metadata": {
        "id": "view-in-github",
        "colab_type": "text"
      },
      "source": [
        "<a href=\"https://colab.research.google.com/github/dfeng423/Optimal-Prices-for-Renters-in-Airbnb/blob/master/optimal_prices_for_renters_in_airbnb.ipynb\" target=\"_parent\"><img src=\"https://colab.research.google.com/assets/colab-badge.svg\" alt=\"Open In Colab\"/></a>"
      ]
    },
    {
      "cell_type": "markdown",
      "metadata": {
        "id": "EZ8l72oQpnYq",
        "colab_type": "text"
      },
      "source": [
        "## Optimal Airbnb List Price Suggestion"
      ]
    },
    {
      "cell_type": "markdown",
      "metadata": {
        "id": "Q7eE8GKXWLOZ",
        "colab_type": "text"
      },
      "source": [
        "## Problem Definition"
      ]
    },
    {
      "cell_type": "markdown",
      "metadata": {
        "id": "TmvSvXBKRUE5",
        "colab_type": "text"
      },
      "source": [
        "As a host, if we try to charge above market price for a living space we'd like to rent, then renters will select more affordable alternatives which are similar to ours. If we set our nightly rent price too low, we'll miss out on potential revenue."
      ]
    },
    {
      "cell_type": "markdown",
      "metadata": {
        "id": "_ebtK8SPqSA9",
        "colab_type": "text"
      },
      "source": [
        "## DataSet"
      ]
    },
    {
      "cell_type": "markdown",
      "metadata": {
        "id": "WI0pwvizRegS",
        "colab_type": "text"
      },
      "source": [
        "The dataset we will be working with is from October 3, 2015 on the listings from Washington, D.C., the capital of the United States."
      ]
    },
    {
      "cell_type": "markdown",
      "metadata": {
        "id": "39qx0WfrRwmY",
        "colab_type": "text"
      },
      "source": [
        "To make the dataset less cumbersome to work with, we've removed many of the columns in the original dataset and renamed the file to dc_airbnb.csv. Here are the columns we kept:\n",
        "\n",
        "- host_response_rate: the response rate of the host\n",
        "- host_acceptance_rate: number of requests to the host that convert to rentals\n",
        "- host_listings_count: number of other listings the host has\n",
        "- latitude: latitude dimension of the geographic coordinates\n",
        "- longitude: longitude part of the coordinates\n",
        "- city: the city the living space resides\n",
        "- zipcode: the zip code the living space resides\n",
        "- state: the state the living space resides\n",
        "- accommodates: the number of guests the rental can accommodate\n",
        "- room_type: the type of living space (Private room, Shared room or Entire home/apt)\n",
        "- bedrooms: number of bedrooms included in the rental\n",
        "- bathrooms: number of bathrooms included in the rental\n",
        "- beds: number of beds included in the rental\n",
        "- price: nightly price for the rental\n",
        "- cleaning_fee: additional fee used for cleaning the living space after the guest leaves\n",
        "- security_deposit: refundable security deposit, in case of damages\n",
        "- minimum_nights: minimum number of nights a guest can stay for the rental\n",
        "- maximum_nights: maximum number of nights a guest can stay for the rental\n",
        "- number_of_reviews: number of reviews that previous guests have left\n"
      ]
    },
    {
      "cell_type": "code",
      "metadata": {
        "id": "t8b8wqoKpmDf",
        "colab_type": "code",
        "outputId": "d064ad41-1824-4aef-c36a-28c4da4fff28",
        "colab": {
          "base_uri": "https://localhost:8080/",
          "height": 663
        }
      },
      "source": [
        "import pandas as pd\n",
        "import numpy as np\n",
        "\n",
        "dc_listings = pd.read_csv(\"dc_airbnb.csv\")\n",
        "print(dc_listings)\n",
        "dc_listings.info()"
      ],
      "execution_count": 0,
      "outputs": [
        {
          "output_type": "stream",
          "text": [
            "     host_response_rate host_acceptance_rate  ...  zipcode  state\n",
            "0                   92%                  91%  ...    20003     DC\n",
            "1                   90%                 100%  ...    20003     DC\n",
            "2                   90%                 100%  ...    20782     MD\n",
            "3                  100%                  NaN  ...    20024     DC\n",
            "4                   92%                  67%  ...    20910     MD\n",
            "...                 ...                  ...  ...      ...    ...\n",
            "3718               100%                  60%  ...    20003     DC\n",
            "3719               100%                  50%  ...    20003     DC\n",
            "3720               100%                 100%  ...    20003     DC\n",
            "3721                88%                 100%  ...    20002     DC\n",
            "3722                70%                 100%  ...    20003     DC\n",
            "\n",
            "[3723 rows x 19 columns]\n",
            "<class 'pandas.core.frame.DataFrame'>\n",
            "RangeIndex: 3723 entries, 0 to 3722\n",
            "Data columns (total 19 columns):\n",
            "host_response_rate      3289 non-null object\n",
            "host_acceptance_rate    3109 non-null object\n",
            "host_listings_count     3723 non-null int64\n",
            "accommodates            3723 non-null int64\n",
            "room_type               3723 non-null object\n",
            "bedrooms                3702 non-null float64\n",
            "bathrooms               3696 non-null float64\n",
            "beds                    3712 non-null float64\n",
            "price                   3723 non-null object\n",
            "cleaning_fee            2335 non-null object\n",
            "security_deposit        1426 non-null object\n",
            "minimum_nights          3723 non-null int64\n",
            "maximum_nights          3723 non-null int64\n",
            "number_of_reviews       3723 non-null int64\n",
            "latitude                3723 non-null float64\n",
            "longitude               3723 non-null float64\n",
            "city                    3723 non-null object\n",
            "zipcode                 3714 non-null object\n",
            "state                   3723 non-null object\n",
            "dtypes: float64(5), int64(5), object(9)\n",
            "memory usage: 552.8+ KB\n"
          ],
          "name": "stdout"
        }
      ]
    },
    {
      "cell_type": "markdown",
      "metadata": {
        "id": "j7UpiJhHUbnV",
        "colab_type": "text"
      },
      "source": [
        "## Univariate K-Nearest Neighbors\n"
      ]
    },
    {
      "cell_type": "markdown",
      "metadata": {
        "id": "gTm8IJs-Wm6A",
        "colab_type": "text"
      },
      "source": [
        "#### overview of the k-nearest neighbors algorithm:"
      ]
    },
    {
      "cell_type": "markdown",
      "metadata": {
        "id": "tEC-5JqZU4IX",
        "colab_type": "text"
      },
      "source": [
        "1.  select the number of similar listings, k, we want to compare with;\n",
        "2.  for each listing, calculate how similar it is to our unpriced listing.\n",
        "3.  rank each listing by the similarity metric and select the first k listings.\n",
        "4. calculate the mean list price for the k similar listings and use as our list price.\n",
        "\n"
      ]
    },
    {
      "cell_type": "markdown",
      "metadata": {
        "id": "PUa8wNUmV5sR",
        "colab_type": "text"
      },
      "source": [
        "#### Implementation"
      ]
    },
    {
      "cell_type": "markdown",
      "metadata": {
        "id": "qd43sTlwxmhQ",
        "colab_type": "text"
      },
      "source": [
        "Euclidean Distance = sqrt(sum i to N (x1_i – x2_i)^2), Where x1 is the first row of data, x2 is the second row of data and i is the index to a specific column as we sum across all columns."
      ]
    },
    {
      "cell_type": "code",
      "metadata": {
        "id": "Hj93bm3iPpb-",
        "colab_type": "code",
        "outputId": "f342482b-9efd-48d7-b67e-f5983a124929",
        "colab": {
          "base_uri": "https://localhost:8080/",
          "height": 68
        }
      },
      "source": [
        "np.random.seed(1)\n",
        "#  the price column contains comma characters (,) and dollar sign characters and is formatted as a text column instead of a numeric one. We need to remove these values and convert the entire column to the float datatype. Then, we can calculate the average price.\n",
        "stripped_commas = dc_listings['price'].replace(',', '')\n",
        "stripped_dollars = stripped_commas.replace('$', '')\n",
        "dc_listings['price'] = stripped_dollars.astype('float')\n",
        "dc_listings = dc_listings.loc[np.random.permutation(len(dc_listings))] #np.random.permutation() function to return a NumPy array of shuffled index values.\n",
        "\n",
        "\n",
        "# Write a function named predict_price that can use the k-nearest neighbors machine learning technique to calculate the suggested price for any value for accommodates.\n",
        "def predict_price(new_listing):\n",
        "    temp_df = dc_listings.copy()\n",
        "    temp_df['distance'] = temp_df['accommodates'].apply(lambda x: np.abs(x - new_listing)) # univariate case, Euclidean distance\n",
        "    temp_df = temp_df.sort_values('distance')\n",
        "    nearest_neighbors = temp_df.iloc[0:5]['price'] # select 5 \"nearest neighbors\" \n",
        "    predicted_price = nearest_neighbors.mean()\n",
        "    return(predicted_price)\n",
        "\n",
        "acc_one = predict_price(1) # accommodates 1 person, assign the suggested price to acc_one\n",
        "acc_two = predict_price(2)\n",
        "acc_four = predict_price(4)\n",
        "print(acc_one)\n",
        "print(acc_two)\n",
        "print(acc_four)"
      ],
      "execution_count": 0,
      "outputs": [
        {
          "output_type": "stream",
          "text": [
            "68.0\n",
            "112.8\n",
            "124.8\n"
          ],
          "name": "stdout"
        }
      ]
    },
    {
      "cell_type": "markdown",
      "metadata": {
        "id": "ncqAO0LxWTmF",
        "colab_type": "text"
      },
      "source": [
        "#### Model Performance Evaluation"
      ]
    },
    {
      "cell_type": "code",
      "metadata": {
        "id": "nwE92jYBmIew",
        "colab_type": "code",
        "outputId": "07333bc0-0dda-45f9-8c76-988455ce967c",
        "colab": {
          "base_uri": "https://localhost:8080/",
          "height": 122
        }
      },
      "source": [
        "import pandas as pd\n",
        "import numpy as np\n",
        "dc_listings = pd.read_csv(\"dc_airbnb.csv\")\n",
        "stripped_commas = dc_listings['price'].str.replace(',', '')\n",
        "stripped_dollars = stripped_commas.str.replace('$', '')\n",
        "dc_listings['price'] = stripped_dollars.astype('float')\n",
        "train_df = dc_listings.iloc[0:2792] #75%\n",
        "test_df = dc_listings.iloc[2792:] # 25%\n",
        "\n",
        "def predict_price(new_listing):\n",
        "    ## DataFrame.copy() performs a deep copy\n",
        "    temp_df = train_df.copy()\n",
        "    temp_df['distance'] = temp_df['accommodates'].apply(lambda x: np.abs(x - new_listing))\n",
        "    temp_df = temp_df.sort_values('distance')\n",
        "    nearest_neighbor_prices = temp_df.iloc[0:5]['price']\n",
        "    predicted_price = nearest_neighbor_prices.mean()\n",
        "    return(predicted_price)\n",
        "test_df['predicted_price'] = test_df['accommodates'].apply(predict_price)"
      ],
      "execution_count": 0,
      "outputs": [
        {
          "output_type": "stream",
          "text": [
            "/usr/local/lib/python3.6/dist-packages/ipykernel_launcher.py:18: SettingWithCopyWarning: \n",
            "A value is trying to be set on a copy of a slice from a DataFrame.\n",
            "Try using .loc[row_indexer,col_indexer] = value instead\n",
            "\n",
            "See the caveats in the documentation: http://pandas.pydata.org/pandas-docs/stable/user_guide/indexing.html#returning-a-view-versus-a-copy\n"
          ],
          "name": "stderr"
        }
      ]
    },
    {
      "cell_type": "markdown",
      "metadata": {
        "id": "1fk0Q_sXmX1y",
        "colab_type": "text"
      },
      "source": [
        "######MAE"
      ]
    },
    {
      "cell_type": "code",
      "metadata": {
        "id": "tycVGoAfmcXu",
        "colab_type": "code",
        "outputId": "2d5bcc16-f704-4007-a077-8f77b0537ad5",
        "colab": {
          "base_uri": "https://localhost:8080/",
          "height": 34
        }
      },
      "source": [
        "# mean absolute error\n",
        "mae = (test_df['predicted_price'] - test_df['price']).map(np.absolute).mean()\n",
        "print(mae)"
      ],
      "execution_count": 0,
      "outputs": [
        {
          "output_type": "stream",
          "text": [
            "56.29001074113876\n"
          ],
          "name": "stdout"
        }
      ]
    },
    {
      "cell_type": "markdown",
      "metadata": {
        "id": "Maq8WC6Cm2dW",
        "colab_type": "text"
      },
      "source": [
        "##### MSE\n"
      ]
    },
    {
      "cell_type": "code",
      "metadata": {
        "id": "SCek08ohm5D3",
        "colab_type": "code",
        "outputId": "7eddf659-f8da-4541-b6a8-02e6731f0516",
        "colab": {
          "base_uri": "https://localhost:8080/",
          "height": 156
        }
      },
      "source": [
        "# mean squared error: The MSE makes the gap between the predicted and actual values more clear.\n",
        "test_df['squared_error'] = (test_df['predicted_price'] - test_df['price'])**(2)\n",
        "mse = test_df['squared_error'].mean()\n",
        "print(mse)"
      ],
      "execution_count": 0,
      "outputs": [
        {
          "output_type": "stream",
          "text": [
            "18646.525370569325\n"
          ],
          "name": "stdout"
        },
        {
          "output_type": "stream",
          "text": [
            "/usr/local/lib/python3.6/dist-packages/ipykernel_launcher.py:1: SettingWithCopyWarning: \n",
            "A value is trying to be set on a copy of a slice from a DataFrame.\n",
            "Try using .loc[row_indexer,col_indexer] = value instead\n",
            "\n",
            "See the caveats in the documentation: http://pandas.pydata.org/pandas-docs/stable/user_guide/indexing.html#returning-a-view-versus-a-copy\n",
            "  \"\"\"Entry point for launching an IPython kernel.\n"
          ],
          "name": "stderr"
        }
      ]
    },
    {
      "cell_type": "markdown",
      "metadata": {
        "id": "zcPoKjg4ncZs",
        "colab_type": "text"
      },
      "source": [
        "##### using the bathrooms column to build the model\n"
      ]
    },
    {
      "cell_type": "code",
      "metadata": {
        "id": "TrA_iYZtnhFX",
        "colab_type": "code",
        "outputId": "5c9aec3c-978c-4bc8-ade1-6d99eb60e9e0",
        "colab": {
          "base_uri": "https://localhost:8080/",
          "height": 258
        }
      },
      "source": [
        "train_df = dc_listings.iloc[0:2792]\n",
        "test_df = dc_listings.iloc[2792:]\n",
        "\n",
        "def predict_price(new_listing):\n",
        "    temp_df = train_df.copy()\n",
        "    temp_df['distance'] = temp_df['bathrooms'].apply(lambda x: np.abs(x - new_listing))\n",
        "    temp_df = temp_df.sort_values('distance')\n",
        "    nearest_neighbors_prices = temp_df.iloc[0:5]['price']\n",
        "    predicted_price = nearest_neighbors_prices.mean()\n",
        "    return(predicted_price)\n",
        "\n",
        "test_df['predicted_price'] = test_df['bathrooms'].apply(lambda x: predict_price(x))\n",
        "test_df['squared_error'] = (test_df['predicted_price'] - test_df['price'])**(2)\n",
        "mse = test_df['squared_error'].mean()\n",
        "print(mse)"
      ],
      "execution_count": 0,
      "outputs": [
        {
          "output_type": "stream",
          "text": [
            "18405.444081632548\n"
          ],
          "name": "stdout"
        },
        {
          "output_type": "stream",
          "text": [
            "/usr/local/lib/python3.6/dist-packages/ipykernel_launcher.py:12: SettingWithCopyWarning: \n",
            "A value is trying to be set on a copy of a slice from a DataFrame.\n",
            "Try using .loc[row_indexer,col_indexer] = value instead\n",
            "\n",
            "See the caveats in the documentation: http://pandas.pydata.org/pandas-docs/stable/user_guide/indexing.html#returning-a-view-versus-a-copy\n",
            "  if sys.path[0] == '':\n",
            "/usr/local/lib/python3.6/dist-packages/ipykernel_launcher.py:13: SettingWithCopyWarning: \n",
            "A value is trying to be set on a copy of a slice from a DataFrame.\n",
            "Try using .loc[row_indexer,col_indexer] = value instead\n",
            "\n",
            "See the caveats in the documentation: http://pandas.pydata.org/pandas-docs/stable/user_guide/indexing.html#returning-a-view-versus-a-copy\n",
            "  del sys.path[0]\n"
          ],
          "name": "stderr"
        }
      ]
    },
    {
      "cell_type": "markdown",
      "metadata": {
        "id": "jrsccKQeelb3",
        "colab_type": "text"
      },
      "source": [
        "We observed an improvement in accuracy after we switched to the bathrooms column."
      ]
    },
    {
      "cell_type": "markdown",
      "metadata": {
        "id": "46Vj3IGXyXos",
        "colab_type": "text"
      },
      "source": [
        "##### RMSE: Root mean squared error. Root mean squared error is an error metric whose units are the base unit (in our case, dollars).\n",
        "\n",
        "This means that the individual errors grows quadratically and has a different effect on the final RMSE value.\n"
      ]
    },
    {
      "cell_type": "code",
      "metadata": {
        "id": "D5iawDKKyWNb",
        "colab_type": "code",
        "outputId": "444451d5-0f24-4b0e-ff3c-3ef03e2feade",
        "colab": {
          "base_uri": "https://localhost:8080/",
          "height": 34
        }
      },
      "source": [
        "rmse = mse**0.5\n",
        "print(rmse)"
      ],
      "execution_count": 0,
      "outputs": [
        {
          "output_type": "stream",
          "text": [
            "136.55228072269364\n"
          ],
          "name": "stdout"
        }
      ]
    },
    {
      "cell_type": "markdown",
      "metadata": {
        "id": "h3uZFNIWy1Yb",
        "colab_type": "text"
      },
      "source": [
        "The model achieved an RMSE value of approximately 135.6, which implies that we should expect for the model to be off by 135.6 dollars on average for the predicted price values. Given that most of the living spaces are listed at just a few hundred dollars, we need to reduce this error as much as possible to improve the model's usefulness.\n",
        "\n",
        "Taking the square root of the average squared errors has some interesting implications for RMSE. Since the errors are squared before they are averaged, the RMSE gives a relatively high weight to large errors. This means the RMSE should be more useful when large errors are particularly undesirable.\n",
        "\n"
      ]
    },
    {
      "cell_type": "markdown",
      "metadata": {
        "id": "I-4cgBUB5exY",
        "colab_type": "text"
      },
      "source": [
        "## Multivariate K-Nearest Neighbors "
      ]
    },
    {
      "cell_type": "markdown",
      "metadata": {
        "id": "MmvFyGLDoqEp",
        "colab_type": "text"
      },
      "source": [
        "### **Feature Selection**"
      ]
    },
    {
      "cell_type": "markdown",
      "metadata": {
        "id": "65uKXoPKe_zO",
        "colab_type": "text"
      },
      "source": [
        "It's clear that using just a single feature to compare listings doesn't reflect the reality of the market. An apartment that can accommodate 4 guests in a popular part of Washington D.C. will rent for much higher than one that can accommodate 4 guests in a crime ridden area."
      ]
    },
    {
      "cell_type": "markdown",
      "metadata": {
        "id": "-jp-aZWYfIv0",
        "colab_type": "text"
      },
      "source": [
        "There are 2 ways we can tweak the model to try to improve the accuracy (decrease the RMSE during validation):\n",
        "\n",
        "- increase the number of attributes the model uses to calculate similarity when ranking the closest neighbors\n",
        "- increase k, the number of nearby neighbors the model uses when computing the prediction"
      ]
    },
    {
      "cell_type": "markdown",
      "metadata": {
        "id": "b7E2dTwkfXck",
        "colab_type": "text"
      },
      "source": [
        "Here we'll increasing the number of attributes the model uses.\n",
        "\n",
        "When selecting more attributes to use in the model, we need to watch out for columns that don't work well with the distance equation. This includes columns containing:\n",
        "\n",
        "- non-numerical values (e.g. city or state)\n",
        " +  Euclidean distance equation expects numerical values\n",
        "- missing values\n",
        " + distance equation expects a value for each observation and attribute\n",
        "- non-ordinal values (e.g. latitude or longitude)\n",
        " + ranking by Euclidean distance doesn't make sense if all attributes aren't ordinal"
      ]
    },
    {
      "cell_type": "code",
      "metadata": {
        "id": "C241DpyRgO6F",
        "colab_type": "code",
        "outputId": "0f537498-757f-46fa-f81d-0749cd668c60",
        "colab": {
          "base_uri": "https://localhost:8080/",
          "height": 425
        }
      },
      "source": [
        "import pandas as pd\n",
        "import numpy as np\n",
        "np.random.seed(1)\n",
        "\n",
        "dc_listings = pd.read_csv('dc_airbnb.csv')\n",
        "dc_listings = dc_listings.loc[np.random.permutation(len(dc_listings))]\n",
        "stripped_commas = dc_listings['price'].str.replace(',', '')\n",
        "stripped_dollars = stripped_commas.str.replace('$', '')\n",
        "dc_listings['price'] = stripped_dollars.astype('float')\n",
        "\n",
        "dc_listings.info()"
      ],
      "execution_count": 0,
      "outputs": [
        {
          "output_type": "stream",
          "text": [
            "<class 'pandas.core.frame.DataFrame'>\n",
            "Int64Index: 3723 entries, 574 to 1061\n",
            "Data columns (total 19 columns):\n",
            "host_response_rate      3289 non-null object\n",
            "host_acceptance_rate    3109 non-null object\n",
            "host_listings_count     3723 non-null int64\n",
            "accommodates            3723 non-null int64\n",
            "room_type               3723 non-null object\n",
            "bedrooms                3702 non-null float64\n",
            "bathrooms               3696 non-null float64\n",
            "beds                    3712 non-null float64\n",
            "price                   3723 non-null float64\n",
            "cleaning_fee            2335 non-null object\n",
            "security_deposit        1426 non-null object\n",
            "minimum_nights          3723 non-null int64\n",
            "maximum_nights          3723 non-null int64\n",
            "number_of_reviews       3723 non-null int64\n",
            "latitude                3723 non-null float64\n",
            "longitude               3723 non-null float64\n",
            "city                    3723 non-null object\n",
            "zipcode                 3714 non-null object\n",
            "state                   3723 non-null object\n",
            "dtypes: float64(6), int64(5), object(8)\n",
            "memory usage: 581.7+ KB\n"
          ],
          "name": "stdout"
        }
      ]
    },
    {
      "cell_type": "markdown",
      "metadata": {
        "id": "XMxbE5oQhJE_",
        "colab_type": "text"
      },
      "source": [
        "#### 1. Removing features\n",
        "\n",
        "Remove the 9 columns we discussed above from dc_listings:\n",
        "- 3 containing non-numerical values\n",
        " + room_type: e.g. Private room\n",
        " + city: e.g. Washington\n",
        " + state: e.g. DC\n",
        "- 3 containing numerical but non-ordinal values\n",
        " + latitude: e.g. 38.913458\n",
        " + longitude: e.g. -77.031\n",
        " + zipcode: e.g. 20009\n",
        "\n",
        "Geographic values like these aren't ordinal, because a smaller numerical value doesn't directly correspond to a smaller value in a meaningful way. \n",
        "- 3 describing the host instead of the living space itself\n",
        " + host_response_rate\n",
        " + host_acceptance_rate\n",
        " + host_listings_count\n",
        "\n",
        "Since a host could have many living spaces and we don't have enough information to uniquely group living spaces to the hosts themselves, let's avoid using any columns that don't directly describe the living space or the listing itself"
      ]
    },
    {
      "cell_type": "code",
      "metadata": {
        "id": "QfqZn9ozgjAW",
        "colab_type": "code",
        "outputId": "61a652e1-e85c-47ab-e2fb-b28f509809be",
        "colab": {
          "base_uri": "https://localhost:8080/",
          "height": 204
        }
      },
      "source": [
        "drop_columns = ['room_type', 'city', 'state', 'latitude', 'longitude', 'zipcode', 'host_response_rate', 'host_acceptance_rate', 'host_listings_count']\n",
        "dc_listings = dc_listings.drop(drop_columns, axis=1)\n",
        "print(dc_listings.isnull().sum())\n",
        "\n",
        "\n"
      ],
      "execution_count": 0,
      "outputs": [
        {
          "output_type": "stream",
          "text": [
            "accommodates            0\n",
            "bedrooms               21\n",
            "bathrooms              27\n",
            "beds                   11\n",
            "price                   0\n",
            "cleaning_fee         1388\n",
            "security_deposit     2297\n",
            "minimum_nights          0\n",
            "maximum_nights          0\n",
            "number_of_reviews       0\n",
            "dtype: int64\n"
          ],
          "name": "stdout"
        }
      ]
    },
    {
      "cell_type": "markdown",
      "metadata": {
        "id": "WQrOzAEqimdQ",
        "colab_type": "text"
      },
      "source": [
        "#### 2. Handling missing values\n"
      ]
    },
    {
      "cell_type": "markdown",
      "metadata": {
        "id": "EiGBB2GCiuyO",
        "colab_type": "text"
      },
      "source": [
        "Of the remaining columns, 3 columns have a few missing values (less than 1% of the total number of rows):\n",
        "\n",
        "- bedrooms\n",
        "- bathrooms\n",
        "- beds\n",
        "\n",
        "Since the number of rows containing missing values for one of these 3 columns is low, we can select and remove those rows without losing much information. There are also 2 columns that have a large number of missing values:\n",
        "\n",
        "- cleaning_fee - 37.3% of the rows\n",
        "- security_deposit - 61.7% of the rows\n",
        "\n",
        "and we can't handle these easily. We can't just remove the rows containing missing values for these 2 columns because we'd miss out on the majority of the observations in the dataset. Instead, let's remove these 2 columns entirely from consideration."
      ]
    },
    {
      "cell_type": "code",
      "metadata": {
        "id": "ZU3WDRz3jPt9",
        "colab_type": "code",
        "outputId": "e4c65c3a-7240-47ac-857d-01b1cd79edc7",
        "colab": {
          "base_uri": "https://localhost:8080/",
          "height": 170
        }
      },
      "source": [
        "dc_listings.drop(['cleaning_fee','security_deposit'],axis = 1,inplace = True)\n",
        "dc_listings.dropna(axis = 0,inplace = True)\n",
        "\n",
        "print(dc_listings.isnull().sum())"
      ],
      "execution_count": 0,
      "outputs": [
        {
          "output_type": "stream",
          "text": [
            "accommodates         0\n",
            "bedrooms             0\n",
            "bathrooms            0\n",
            "beds                 0\n",
            "price                0\n",
            "minimum_nights       0\n",
            "maximum_nights       0\n",
            "number_of_reviews    0\n",
            "dtype: int64\n"
          ],
          "name": "stdout"
        }
      ]
    },
    {
      "cell_type": "markdown",
      "metadata": {
        "id": "_veZIreZjn7r",
        "colab_type": "text"
      },
      "source": [
        "#### 3. Normalize columns"
      ]
    },
    {
      "cell_type": "code",
      "metadata": {
        "id": "NdKvyvaVicqx",
        "colab_type": "code",
        "outputId": "6e5e21d5-38f5-4bae-fd58-3114dad4a0c2",
        "colab": {
          "base_uri": "https://localhost:8080/",
          "height": 153
        }
      },
      "source": [
        "print(dc_listings.head())"
      ],
      "execution_count": 0,
      "outputs": [
        {
          "output_type": "stream",
          "text": [
            "      accommodates  bedrooms  ...  maximum_nights  number_of_reviews\n",
            "574              2       1.0  ...               4                149\n",
            "1593             2       1.0  ...              30                 49\n",
            "3091             1       1.0  ...            1125                  1\n",
            "420              2       1.0  ...             730                  2\n",
            "808             12       5.0  ...            1825                 34\n",
            "\n",
            "[5 rows x 8 columns]\n"
          ],
          "name": "stdout"
        }
      ]
    },
    {
      "cell_type": "markdown",
      "metadata": {
        "id": "sTBCFWZpj6kR",
        "colab_type": "text"
      },
      "source": [
        "We noticed that while the accommodates, bedrooms, bathrooms, beds, and minimum_nights columns hover between 0 and 12 (at least in the first few rows), the values in the maximum_nights and number_of_reviews columns span much larger ranges. For example, the maximum_nights column has values as low as 4 and high as 1825, in the first few rows itself. If we use these 2 columns as part of a k-nearest neighbors model, these attributes could end up having an outsized effect on the distance calculations because of the largeness of the values."
      ]
    },
    {
      "cell_type": "markdown",
      "metadata": {
        "id": "Rf2H3-ZEkUjE",
        "colab_type": "text"
      },
      "source": [
        "To prevent any single column from having too much of an impact on the distance, we can normalize all of the columns to have a mean of 0 and a standard deviation of 1."
      ]
    },
    {
      "cell_type": "code",
      "metadata": {
        "id": "2ZBrab1ukjcn",
        "colab_type": "code",
        "outputId": "9668aaa1-a670-41bc-e417-9071c74cc0ed",
        "colab": {
          "base_uri": "https://localhost:8080/",
          "height": 119
        }
      },
      "source": [
        "# To apply this transformation across all of the columns in a Dataframe, you can use the corresponding Dataframe methods mean() and std():\n",
        "\n",
        "normalized_listings = (dc_listings - dc_listings.mean())/(dc_listings.std())\n",
        "normalized_listings['price'] = dc_listings['price']\n",
        "print(normalized_listings.head(3))"
      ],
      "execution_count": 0,
      "outputs": [
        {
          "output_type": "stream",
          "text": [
            "      accommodates  bedrooms  ...  maximum_nights  number_of_reviews\n",
            "574      -0.596544 -0.249467  ...       -0.016604           4.579650\n",
            "1593     -0.596544 -0.249467  ...       -0.016603           1.159275\n",
            "3091     -1.095499 -0.249467  ...       -0.016573          -0.482505\n",
            "\n",
            "[3 rows x 8 columns]\n"
          ],
          "name": "stdout"
        }
      ]
    },
    {
      "cell_type": "markdown",
      "metadata": {
        "id": "FuTMWcHQk7ML",
        "colab_type": "text"
      },
      "source": [
        "#### 4. Calculate Euclidean distance for multivariate case"
      ]
    },
    {
      "cell_type": "code",
      "metadata": {
        "id": "R6Tx5w9Il2sJ",
        "colab_type": "code",
        "outputId": "23de6e79-fd37-4e91-d50c-16785cf1c7d5",
        "colab": {
          "base_uri": "https://localhost:8080/",
          "height": 34
        }
      },
      "source": [
        "# Calculate the Euclidean distance using only the accommodates and bathrooms features between the first row and fifth row in normalized_listings using the distance.euclidean() function.\n",
        "from scipy.spatial import distance\n",
        "first_listing = normalized_listings.iloc[0][['accommodates', 'bathrooms']]\n",
        "fifth_listing = normalized_listings.iloc[4][['accommodates', 'bathrooms']]\n",
        "first_fifth_distance = distance.euclidean(first_listing, fifth_listing)\n",
        "print(first_fifth_distance)"
      ],
      "execution_count": 0,
      "outputs": [
        {
          "output_type": "stream",
          "text": [
            "5.272543124668404\n"
          ],
          "name": "stdout"
        }
      ]
    },
    {
      "cell_type": "markdown",
      "metadata": {
        "id": "eVUZYyYqnIoY",
        "colab_type": "text"
      },
      "source": [
        "#### 5. Fitting a model and making predictions By scikit-learn library"
      ]
    },
    {
      "cell_type": "code",
      "metadata": {
        "id": "lU6_YuvSmKeo",
        "colab_type": "code",
        "colab": {}
      },
      "source": [
        "from sklearn.neighbors import KNeighborsRegressor\n",
        "\n",
        "train_df = normalized_listings.iloc[0:2792]\n",
        "test_df = normalized_listings.iloc[2792:]\n",
        "train_columns = ['accommodates', 'bathrooms']\n",
        "\n",
        "# Instantiate ML model.\n",
        "knn = KNeighborsRegressor(n_neighbors=5, algorithm='brute')\n",
        "\n",
        "# Fit model to data.\n",
        "knn.fit(train_df[train_columns], train_df['price'])\n",
        "\n",
        "# Use model to make predictions.\n",
        "predictions = knn.predict(test_df[train_columns])"
      ],
      "execution_count": 0,
      "outputs": []
    },
    {
      "cell_type": "markdown",
      "metadata": {
        "id": "pBy3K1O0nNte",
        "colab_type": "text"
      },
      "source": [
        "#### 6. Calculating MSE using Scikit-Learn"
      ]
    },
    {
      "cell_type": "code",
      "metadata": {
        "id": "ChIiKWbKnRZn",
        "colab_type": "code",
        "outputId": "b6d795dc-b7c9-4eb3-fb6c-0633386a2dbd",
        "colab": {
          "base_uri": "https://localhost:8080/",
          "height": 51
        }
      },
      "source": [
        "from sklearn.metrics import mean_squared_error\n",
        "\n",
        "two_features_mse = mean_squared_error(test_df['price'], predictions)\n",
        "two_features_rmse = two_features_mse ** (1/2)\n",
        "print(two_features_mse)\n",
        "print(two_features_rmse)"
      ],
      "execution_count": 0,
      "outputs": [
        {
          "output_type": "stream",
          "text": [
            "15600.51385665529\n",
            "124.90201702396679\n"
          ],
          "name": "stdout"
        }
      ]
    },
    {
      "cell_type": "markdown",
      "metadata": {
        "id": "UcerDSCAmJzq",
        "colab_type": "text"
      },
      "source": [
        "#### 7. Using more features"
      ]
    },
    {
      "cell_type": "code",
      "metadata": {
        "id": "118YxVlbnl9I",
        "colab_type": "code",
        "outputId": "1de6e81d-35ed-406c-c1ab-351c0d512d71",
        "colab": {
          "base_uri": "https://localhost:8080/",
          "height": 51
        }
      },
      "source": [
        "features = ['accommodates', 'bedrooms', 'bathrooms', 'number_of_reviews']\n",
        "from sklearn.neighbors import KNeighborsRegressor\n",
        "knn = KNeighborsRegressor(n_neighbors=5, algorithm='brute')\n",
        "knn.fit(train_df[features], train_df['price'])\n",
        "four_predictions = knn.predict(test_df[features])\n",
        "four_mse = mean_squared_error(test_df['price'], four_predictions)\n",
        "four_rmse = four_mse ** (1/2)\n",
        "print(four_mse)\n",
        "print(four_rmse)"
      ],
      "execution_count": 0,
      "outputs": [
        {
          "output_type": "stream",
          "text": [
            "13322.432400455064\n",
            "115.42284176217056\n"
          ],
          "name": "stdout"
        }
      ]
    },
    {
      "cell_type": "code",
      "metadata": {
        "id": "yRwU32J9nsUE",
        "colab_type": "code",
        "outputId": "64c9c836-949f-4612-b5f4-4270c6fb2822",
        "colab": {
          "base_uri": "https://localhost:8080/",
          "height": 51
        }
      },
      "source": [
        "knn = KNeighborsRegressor(n_neighbors=5, algorithm='brute')\n",
        "\n",
        "features = train_df.columns.tolist()\n",
        "features.remove('price')\n",
        "\n",
        "knn.fit(train_df[features], train_df['price'])\n",
        "all_features_predictions = knn.predict(test_df[features])\n",
        "all_features_mse = mean_squared_error(test_df['price'], all_features_predictions)\n",
        "all_features_rmse = all_features_mse ** (1/2)\n",
        "print(all_features_mse)\n",
        "print(all_features_rmse)"
      ],
      "execution_count": 0,
      "outputs": [
        {
          "output_type": "stream",
          "text": [
            "15455.275631399316\n",
            "124.31924883701363\n"
          ],
          "name": "stdout"
        }
      ]
    },
    {
      "cell_type": "markdown",
      "metadata": {
        "id": "9_9dClUln2NH",
        "colab_type": "text"
      },
      "source": [
        "The RMSE value actually increased to 125.1 when we used all of the features available to us."
      ]
    },
    {
      "cell_type": "markdown",
      "metadata": {
        "id": "ETMiZ9X9oB5L",
        "colab_type": "text"
      },
      "source": [
        "Lever we could use in K-Nearest Neighbors:\n",
        "- increase the number of attributes the model uses to calculate similarity when ranking the closest neighbors to\n",
        "\n",
        "- select the relevant attributes the model uses to calculate similarity when ranking the closest neighbors"
      ]
    },
    {
      "cell_type": "markdown",
      "metadata": {
        "id": "Rq6_YXKrhCTH",
        "colab_type": "text"
      },
      "source": [
        "### **Hyperparameter Optimization**"
      ]
    },
    {
      "cell_type": "code",
      "metadata": {
        "id": "JBE4s6TNmgfe",
        "colab_type": "code",
        "colab": {}
      },
      "source": [
        ""
      ],
      "execution_count": 0,
      "outputs": []
    },
    {
      "cell_type": "markdown",
      "metadata": {
        "id": "FYnQi6NGuEpZ",
        "colab_type": "text"
      },
      "source": [
        "## Reference:\n",
        "1. https://towardsdatascience.com/3-ways-to-load-csv-files-into-colab-7c14fcbdcb92\n",
        "2. https://medium.com/human-in-a-machine-world/mae-and-rmse-which-metric-is-better-e60ac3bde13d#.lyc8od1ix\n",
        "3. https://scikit-learn.org/stable/modules/generated/sklearn.neighbors.KNeighborsRegressor.html#sklearn.neighbors.KNeighborsRegressor"
      ]
    }
  ]
}