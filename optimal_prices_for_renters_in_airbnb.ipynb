{
  "nbformat": 4,
  "nbformat_minor": 0,
  "metadata": {
    "colab": {
      "name": "optimal prices for renters in airbnb.ipynb",
      "provenance": []
    },
    "kernelspec": {
      "name": "python3",
      "display_name": "Python 3"
    }
  },
  "cells": [
    {
      "cell_type": "markdown",
      "metadata": {
        "id": "EZ8l72oQpnYq",
        "colab_type": "text"
      },
      "source": [
        "optimal airbnb list price"
      ]
    },
    {
      "cell_type": "markdown",
      "metadata": {
        "id": "TmvSvXBKRUE5",
        "colab_type": "text"
      },
      "source": [
        "As a host, if we try to charge above market price for a living space we'd like to rent, then renters will select more affordable alternatives which are similar to ours. If we set our nightly rent price too low, we'll miss out on potential revenue."
      ]
    },
    {
      "cell_type": "markdown",
      "metadata": {
        "id": "WI0pwvizRegS",
        "colab_type": "text"
      },
      "source": [
        "the dataset we will be working with is from October 3, 2015 on the listings from Washington, D.C., the capital of the United States."
      ]
    },
    {
      "cell_type": "markdown",
      "metadata": {
        "id": "39qx0WfrRwmY",
        "colab_type": "text"
      },
      "source": [
        "To make the dataset less cumbersome to work with, we've removed many of the columns in the original dataset and renamed the file to dc_airbnb.csv. Here are the columns we kept:\n",
        "\n",
        "- host_response_rate: the response rate of the host\n",
        "- host_acceptance_rate: number of requests to the host that convert to rentals\n",
        "- host_listings_count: number of other listings the host has\n",
        "- latitude: latitude dimension of the geographic coordinates\n",
        "- longitude: longitude part of the coordinates\n",
        "- city: the city the living space resides\n",
        "- zipcode: the zip code the living space resides\n",
        "- state: the state the living space resides\n",
        "- accommodates: the number of guests the rental can accommodate\n",
        "- room_type: the type of living space (Private room, Shared room or Entire home/apt\n",
        "- bedrooms: number of bedrooms included in the rental\n",
        "- bathrooms: number of bathrooms included in the rental\n",
        "- beds: number of beds included in the rental\n",
        "- price: nightly price for the rental\n",
        "- cleaning_fee: additional fee used for cleaning the living space after the guest leaves\n",
        "- security_deposit: refundable security deposit, in case of damages\n",
        "- minimum_nights: minimum number of nights a guest can stay for the rental\n",
        "- maximum_nights: maximum number of nights a guest can stay for the rental\n",
        "- number_of_reviews: number of reviews that previous guests have left\n"
      ]
    },
    {
      "cell_type": "code",
      "metadata": {
        "id": "t8b8wqoKpmDf",
        "colab_type": "code",
        "outputId": "bada43d4-6733-4fe4-d3f1-b170bee11651",
        "colab": {
          "base_uri": "https://localhost:8080/",
          "height": 255
        }
      },
      "source": [
        "import pandas as pd\n",
        "\n",
        "dc_listings = pd.read_csv(\"dc_airbnb.csv\")\n",
        "print(dc_listings)"
      ],
      "execution_count": 0,
      "outputs": [
        {
          "output_type": "stream",
          "text": [
            "     host_response_rate host_acceptance_rate  ...  zipcode  state\n",
            "0                   92%                  91%  ...    20003     DC\n",
            "1                   90%                 100%  ...    20003     DC\n",
            "2                   90%                 100%  ...    20782     MD\n",
            "3                  100%                  NaN  ...    20024     DC\n",
            "4                   92%                  67%  ...    20910     MD\n",
            "...                 ...                  ...  ...      ...    ...\n",
            "3718               100%                  60%  ...    20003     DC\n",
            "3719               100%                  50%  ...    20003     DC\n",
            "3720               100%                 100%  ...    20003     DC\n",
            "3721                88%                 100%  ...    20002     DC\n",
            "3722                70%                 100%  ...    20003     DC\n",
            "\n",
            "[3723 rows x 19 columns]\n"
          ],
          "name": "stdout"
        }
      ]
    },
    {
      "cell_type": "markdown",
      "metadata": {
        "id": "j7UpiJhHUbnV",
        "colab_type": "text"
      },
      "source": [
        "### k-nearest neighbors\n",
        "- find a few listings that are similar to ours,\n",
        "- average the listed price for the ones most similar to ours,\n",
        "- set our listing price to this calculated average price."
      ]
    },
    {
      "cell_type": "markdown",
      "metadata": {
        "id": "tEC-5JqZU4IX",
        "colab_type": "text"
      },
      "source": [
        "overview of the k-nearest neighbors algorithm:\n",
        "\n",
        "1.  select the number of similar listings, k, we want to compare with;\n",
        "2.  for each listing, calculate how similar it is to our unpriced listing.\n",
        "3.  rank each listing by the similarity metric and select the first k listings.\n",
        "4. calculate the mean list price for the k similar listings and use as our list price.\n",
        "\n"
      ]
    },
    {
      "cell_type": "code",
      "metadata": {
        "id": "Po9UKO1QUYIp",
        "colab_type": "code",
        "colab": {}
      },
      "source": [
        "\n"
      ],
      "execution_count": 0,
      "outputs": []
    },
    {
      "cell_type": "markdown",
      "metadata": {
        "id": "FYnQi6NGuEpZ",
        "colab_type": "text"
      },
      "source": [
        "reference:\n",
        "1. https://towardsdatascience.com/3-ways-to-load-csv-files-into-colab-7c14fcbdcb92"
      ]
    }
  ]
}